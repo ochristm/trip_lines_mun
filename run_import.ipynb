{
 "cells": [
  {
   "cell_type": "code",
   "execution_count": 1,
   "metadata": {
    "scrolled": false
   },
   "outputs": [
    {
     "name": "stdout",
     "output_type": "stream",
     "text": [
      "1. Ввод данных для подключения к базе\n",
      "______________________________________\n",
      "Имя пользователя: K.Popova\n",
      "Пароль: ········\n",
      "Введите дату ГГГГММДД: 20200205\n",
      "Список перевозчиков: ['межсубъектные', 'Прочие', 'Мосгортранс', 'commercial']\n",
      "Введите перевозчиков, как в примере, с кавычками и через запятую: 'Мосгортранс', 'commercial'\n",
      "По умолчанию будет выбран основной вариант трасс (00)\n",
      "Если выбрать все - введите что угодно\n",
      "Если хотите выбрать варианты вручную - введите 1: d\n",
      "______________________________________\n",
      "__Создание директории для сохранения картинок__\n",
      "Не удалось создать директорию: C:\\Users\\popova_kv\\Desktop\\New\\scripts\\_templates\\exercise\\imgs \n",
      "\n",
      "Возможно, она уже создана\n",
      "______________________________________\n",
      "\n",
      "2. Выбор региона\n",
      "______________________________________\n",
      "Внимание!!! Выбор региона - через input\n",
      "Варианты районов/округов можно посмотреть в выпадающих списках\n",
      "район\n"
     ]
    },
    {
     "data": {
      "application/vnd.jupyter.widget-view+json": {
       "model_id": "23f746e1ab5a4157be983c5d0c618121",
       "version_major": 2,
       "version_minor": 0
      },
      "text/plain": [
       "interactive(children=(Dropdown(description='mun_reg', options=('городское поселение Андреевка                 …"
      ]
     },
     "metadata": {},
     "output_type": "display_data"
    },
    {
     "name": "stdout",
     "output_type": "stream",
     "text": [
      "округ\n"
     ]
    },
    {
     "data": {
      "application/vnd.jupyter.widget-view+json": {
       "model_id": "668936e384ab48de82ddc4af99252876",
       "version_major": 2,
       "version_minor": 0
      },
      "text/plain": [
       "interactive(children=(Dropdown(description='mun_adms', options=('административный округ Восточный             …"
      ]
     },
     "metadata": {},
     "output_type": "display_data"
    },
    {
     "name": "stdout",
     "output_type": "stream",
     "text": [
      "Напишите \"район\" или \"округ\": район\n",
      "Введите название (можно не полностью, например \"Аэропорт\"): Котловка\n",
      "Выбран:  район Котловка  .\n",
      "Если выбрать все - введите что угодно\n",
      "Если хотите выбрать маршруты вручную, введите 2: а\n",
      "______________________________________\n",
      "\n",
      "3. Ввод особенностей картинки\n",
      "______________________________________\n",
      "3.1 Выберите вариант раскраски трасс/подписей\n",
      "1 - все перевозчики одним цветом. 2 - все разным\n",
      "Введите 1 или 2: 2\n",
      "Маршруты раскрасятся разными цветами\n",
      "\n",
      "3.2 Выберите вариант размера/пикселей картинок\n",
      "Выгружаются две картинки:\n",
      "scaled - увеличенный масштаб (граница выбранного района)\n",
      "full - общий масштаб (до конца всех трасс, проходящих в выбранном районе)\n",
      "'все одинаково' - оба варианта будут с одинаковыми параметрами\n",
      "'каждый по-разному' - каждый со своими параметрами\n",
      "Вариант 1:все одинаково. Вариант 2:каждый по-разному.\n",
      "Введите вариант: 1\n",
      "X - от 10 до 20\n",
      "Y - от 10 до 20\n",
      "dpi - от 150 до 650\n",
      "Размер по X\n",
      "12\n",
      "Размер по Y\n",
      "14\n",
      "Кол-во пикселей (dpi)\n",
      "400\n",
      "______________________________________\n"
     ]
    },
    {
     "name": "stderr",
     "output_type": "stream",
     "text": [
      "C:\\Users\\popova_kv\\AppData\\Local\\Continuum\\anaconda3\\lib\\site-packages\\geopandas\\plotting.py:405: UserWarning: The GeoDataFrame you are attempting to plot is empty. Nothing has been displayed.\n",
      "  \"empty. Nothing has been displayed.\", UserWarning)\n"
     ]
    },
    {
     "name": "stdout",
     "output_type": "stream",
     "text": [
      "\n",
      "Картинка с увеличенным масштабом выгружена.\n",
      "\n",
      "Картинка с общим масштабом выгружена.\n"
     ]
    }
   ],
   "source": [
    "import trip_lines_in_mun"
   ]
  },
  {
   "cell_type": "code",
   "execution_count": null,
   "metadata": {},
   "outputs": [],
   "source": []
  }
 ],
 "metadata": {
  "kernelspec": {
   "display_name": "Python 3",
   "language": "python",
   "name": "python3"
  },
  "language_info": {
   "codemirror_mode": {
    "name": "ipython",
    "version": 3
   },
   "file_extension": ".py",
   "mimetype": "text/x-python",
   "name": "python",
   "nbconvert_exporter": "python",
   "pygments_lexer": "ipython3",
   "version": "3.7.3"
  }
 },
 "nbformat": 4,
 "nbformat_minor": 2
}
